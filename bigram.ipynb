{
 "cells": [
  {
   "cell_type": "markdown",
   "id": "4951182a-2651-4268-939a-3506b6a2c692",
   "metadata": {},
   "source": [
    "## Bigram-\n",
    "* a statistical model that predicts the likelihood of a word in a sequence based on the previous word."
   ]
  },
  {
   "cell_type": "code",
   "execution_count": 21,
   "id": "d50b0723-a04c-450e-ac7c-04043c324b63",
   "metadata": {},
   "outputs": [
    {
     "name": "stdout",
     "output_type": "stream",
     "text": [
      "cpu\n"
     ]
    }
   ],
   "source": [
    "import torch #tensors/matrices instead of arrays \n",
    "device= 'cuda' if torch.cuda.is_available() else 'cpu'\n",
    "print (device)"
   ]
  },
  {
   "cell_type": "code",
   "execution_count": 1,
   "id": "0e3adbe9-dcc2-4e02-a906-dba8639b2192",
   "metadata": {},
   "outputs": [],
   "source": [
    "#train on a small dataset- wizard_of_oz.txt"
   ]
  },
  {
   "cell_type": "code",
   "execution_count": 2,
   "id": "3f0f9f80-1bbd-4b2c-8409-39010a1691fa",
   "metadata": {},
   "outputs": [
    {
     "name": "stdout",
     "output_type": "stream",
     "text": [
      "232309\n"
     ]
    }
   ],
   "source": [
    "with open ('wizard_of_oz.txt', 'r', encoding= 'utf-8') as f:\n",
    "    text= f.read()\n",
    "print (len(text))\n"
   ]
  },
  {
   "cell_type": "code",
   "execution_count": 3,
   "id": "3c1695e6-fb50-4780-aa54-f750e56094b2",
   "metadata": {},
   "outputs": [
    {
     "name": "stdout",
     "output_type": "stream",
     "text": [
      "﻿  DOROTHY AND THE WIZARD IN OZ\n",
      "\n",
      "  BY\n",
      "\n",
      "  L. FRANK BAUM\n",
      "\n",
      "  AUTHOR OF THE WIZARD OF OZ, THE LAND OF OZ, OZMA OF OZ, ETC.\n",
      "\n",
      "  ILLUSTRATED BY JOHN R. NEILL\n",
      "\n",
      "  BOOKS OF WONDER WILLIAM MORROW & CO., INC. NEW\n"
     ]
    }
   ],
   "source": [
    "print(text[:200])"
   ]
  },
  {
   "cell_type": "code",
   "execution_count": 5,
   "id": "4f3fed14-8cc8-4fc3-b353-1eba8b70b7a1",
   "metadata": {},
   "outputs": [
    {
     "name": "stdout",
     "output_type": "stream",
     "text": [
      "['\\n', ' ', '!', '\"', '&', \"'\", '(', ')', '*', ',', '-', '.', '0', '1', '2', '3', '4', '5', '6', '7', '8', '9', ':', ';', '?', 'A', 'B', 'C', 'D', 'E', 'F', 'G', 'H', 'I', 'J', 'K', 'L', 'M', 'N', 'O', 'P', 'Q', 'R', 'S', 'T', 'U', 'V', 'W', 'X', 'Y', 'Z', '[', ']', '_', 'a', 'b', 'c', 'd', 'e', 'f', 'g', 'h', 'i', 'j', 'k', 'l', 'm', 'n', 'o', 'p', 'q', 'r', 's', 't', 'u', 'v', 'w', 'x', 'y', 'z', '\\ufeff']\n",
      "81\n"
     ]
    }
   ],
   "source": [
    "#vocab list- all characters in this text\n",
    "chars= sorted(set(text))\n",
    "print(chars)\n",
    "print (len(chars))"
   ]
  },
  {
   "cell_type": "markdown",
   "id": "9571438c-74bf-447b-806a-739de8440ec7",
   "metadata": {},
   "source": [
    "### Tokenizer\n",
    "* consists of an encoder and a decoder\n",
    "* encoder converts each element of this array to an integer.\n",
    "* below is a character-level tokenizer, used when we have a limited vocabulary.\n",
    "*  we can have word-level and sub-word tokenizers as well. "
   ]
  },
  {
   "cell_type": "code",
   "execution_count": 12,
   "id": "b82e1b3d-bf1c-4170-bfae-bf464ed3a787",
   "metadata": {},
   "outputs": [
    {
     "data": {
      "text/plain": [
       "<enumerate at 0x1deb27c2f70>"
      ]
     },
     "execution_count": 12,
     "metadata": {},
     "output_type": "execute_result"
    }
   ],
   "source": [
    "x= 'abc'\n",
    "enumerate(x)"
   ]
  },
  {
   "cell_type": "code",
   "execution_count": 13,
   "id": "76f9b0b3-cdcb-40c5-a890-cdf112b36173",
   "metadata": {},
   "outputs": [
    {
     "data": {
      "text/plain": [
       "[(0, 'a'), (1, 'b'), (2, 'c')]"
      ]
     },
     "execution_count": 13,
     "metadata": {},
     "output_type": "execute_result"
    }
   ],
   "source": [
    "list(enumerate(x))"
   ]
  },
  {
   "cell_type": "code",
   "execution_count": 6,
   "id": "6dcf592a-35a2-4194-837e-83e81baf77fc",
   "metadata": {},
   "outputs": [],
   "source": [
    "#tokenizer\n",
    "string_to_int= { ch:i for i,ch in enumerate(chars)} #string to integers\n",
    "int_to_string= {i:ch for i,ch in enumerate(chars)}\n",
    "\n",
    "encode= lambda s: [string_to_int[c] for c in s] #encode chars into intrgers\n",
    "decode= lambda l: ''.join([int_to_string[i] for i in l])\n"
   ]
  },
  {
   "cell_type": "code",
   "execution_count": 10,
   "id": "8e2fca35-bb53-41f7-b57a-add8057371b4",
   "metadata": {},
   "outputs": [
    {
     "data": {
      "text/plain": [
       "[61, 58, 65, 65, 68]"
      ]
     },
     "execution_count": 10,
     "metadata": {},
     "output_type": "execute_result"
    }
   ],
   "source": [
    "a= encode(\"hello\")\n",
    "a"
   ]
  },
  {
   "cell_type": "code",
   "execution_count": 9,
   "id": "c6229508-21dc-4cce-9707-7c5a259cfa14",
   "metadata": {},
   "outputs": [
    {
     "data": {
      "text/plain": [
       "'hello'"
      ]
     },
     "execution_count": 9,
     "metadata": {},
     "output_type": "execute_result"
    }
   ],
   "source": [
    "decode(a)"
   ]
  },
  {
   "cell_type": "code",
   "execution_count": 16,
   "id": "c03fadbe-48be-4852-a52d-43366d824027",
   "metadata": {},
   "outputs": [
    {
     "name": "stdout",
     "output_type": "stream",
     "text": [
      "tensor([80,  1,  1, 28, 39, 42, 39, 44, 32, 49,  1, 25, 38, 28,  1, 44, 32, 29,\n",
      "         1, 47, 33, 50, 25, 42, 28,  1, 33, 38,  1, 39, 50,  0,  0,  1,  1, 26,\n",
      "        49,  0,  0,  1,  1, 36, 11,  1, 30, 42, 25, 38, 35,  1, 26, 25, 45, 37,\n",
      "         0,  0,  1,  1, 25, 45, 44, 32, 39, 42,  1, 39, 30,  1, 44, 32, 29,  1,\n",
      "        47, 33, 50, 25, 42, 28,  1, 39, 30,  1, 39, 50,  9,  1, 44, 32, 29,  1,\n",
      "        36, 25, 38, 28,  1, 39, 30,  1, 39, 50])\n"
     ]
    }
   ],
   "source": [
    "#tokenizer using tensors\n",
    "string_to_int= { ch:i for i,ch in enumerate(chars)} #string to integers\n",
    "int_to_string= {i:ch for i,ch in enumerate(chars)}\n",
    "\n",
    "encode= lambda s: [string_to_int[c] for c in s] #encode chars into intrgers\n",
    "decode= lambda l: ''.join([int_to_string[i] for i in l])\n",
    "\n",
    "data= torch.tensor(encode(text), dtype= torch.long)\n",
    "print(data[:100])"
   ]
  },
  {
   "attachments": {
    "c0ec2edb-fcc7-4d48-bea4-8e72c41eab4c.png": {
     "image/png": "[encoded data removed]"
    }
   },
   "cell_type": "markdown",
   "id": "9135d89c-75e3-4372-b1a8-e9e221f8921c",
   "metadata": {},
   "source": [
    "### Train and Val set split\n",
    "* concept of block_size\n",
    "* ![image.png](attachment:c0ec2edb-fcc7-4d48-bea4-8e72c41eab4c.png)"
   ]
  },
  {
   "cell_type": "code",
   "execution_count": 18,
   "id": "22965a9e-dd0e-4eee-a560-c3fe3d1372e9",
   "metadata": {},
   "outputs": [],
   "source": [
    "n= int(0.8* len(data))\n",
    "train_data= data[:n]\n",
    "val_data= data[n:]"
   ]
  },
  {
   "cell_type": "code",
   "execution_count": 20,
   "id": "7b78eed5-158d-455d-bddb-6d1fe01fbefc",
   "metadata": {},
   "outputs": [
    {
     "name": "stdout",
     "output_type": "stream",
     "text": [
      "when input is tensor([80]) target is tensor(1)\n",
      "when input is tensor([80,  1]) target is tensor(1)\n",
      "when input is tensor([80,  1,  1]) target is tensor(28)\n",
      "when input is tensor([80,  1,  1, 28]) target is tensor(39)\n",
      "when input is tensor([80,  1,  1, 28, 39]) target is tensor(42)\n",
      "when input is tensor([80,  1,  1, 28, 39, 42]) target is tensor(39)\n",
      "when input is tensor([80,  1,  1, 28, 39, 42, 39]) target is tensor(44)\n",
      "when input is tensor([80,  1,  1, 28, 39, 42, 39, 44]) target is tensor(32)\n"
     ]
    }
   ],
   "source": [
    "block_size= 8\n",
    "x= train_data[:block_size]\n",
    "y= train_data[1:block_size+1] #offset by 1 ->target\n",
    "\n",
    "for t in range(block_size):\n",
    "    context= x[:t+1]\n",
    "    target= y[t]\n",
    "    print(\"when input is\", context, 'target is', target)"
   ]
  },
  {
   "cell_type": "markdown",
   "id": "d5d6e868-7015-4ec0-a601-bdf2a61ac91d",
   "metadata": {},
   "source": [
    "* In order to scale language models, make multiple blocks and stack them.\n",
    "* Block size is the length of each sequence and the batch size is how many of these are done at the same time, parallely.\n",
    "*  use cuda after importing torch.\n",
    "\n"
   ]
  },
  {
   "cell_type": "code",
   "execution_count": null,
   "id": "14610fb5-f8d2-4859-a231-e2c5cd5b2a8d",
   "metadata": {},
   "outputs": [],
   "source": []
  }
 ],
 "metadata": {
  "kernelspec": {
   "display_name": "Python (cuda-gpt)",
   "language": "python",
   "name": "cuda"
  },
  "language_info": {
   "codemirror_mode": {
    "name": "ipython",
    "version": 3
   },
   "file_extension": ".py",
   "mimetype": "text/x-python",
   "name": "python",
   "nbconvert_exporter": "python",
   "pygments_lexer": "ipython3",
   "version": "3.12.4"
  }
 },
 "nbformat": 4,
 "nbformat_minor": 5
}
